{
 "cells": [
  {
   "cell_type": "markdown",
   "id": "cc817da2",
   "metadata": {},
   "source": [
    "# Ans 1 "
   ]
  },
  {
   "cell_type": "code",
   "execution_count": 25,
   "id": "39dbd37a",
   "metadata": {
    "scrolled": true
   },
   "outputs": [
    {
     "data": {
      "text/plain": [
       "True"
      ]
     },
     "execution_count": 25,
     "metadata": {},
     "output_type": "execute_result"
    }
   ],
   "source": [
    "li=[1,2,3,'a','b','c']\n",
    "'a' in li"
   ]
  },
  {
   "cell_type": "markdown",
   "id": "88bb78cb",
   "metadata": {},
   "source": [
    "# Ans 2"
   ]
  },
  {
   "cell_type": "code",
   "execution_count": 5,
   "id": "8a87af4f",
   "metadata": {},
   "outputs": [
    {
     "name": "stdout",
     "output_type": "stream",
     "text": [
      "{'S': 'Cat', 'C': 'Dog', 'B': 'Fish', 'G': 'Goat'}\n"
     ]
    }
   ],
   "source": [
    "name=['S','C','B','G']\n",
    "animal=['Cat','Dog','Fish','Goat']\n",
    "d=dict(zip(name,animal))\n",
    "print(d)"
   ]
  },
  {
   "cell_type": "markdown",
   "id": "75be6ab0",
   "metadata": {},
   "source": [
    "# Ans 3"
   ]
  },
  {
   "cell_type": "markdown",
   "id": "d2353f6e",
   "metadata": {},
   "source": [
    "The append () method increases the length of the list by one, while extend() method increases the length of the list as many number you want."
   ]
  },
  {
   "cell_type": "code",
   "execution_count": 10,
   "id": "3244ecd9",
   "metadata": {},
   "outputs": [
    {
     "name": "stdout",
     "output_type": "stream",
     "text": [
      "[2, 3, 4]\n"
     ]
    }
   ],
   "source": [
    "l=[2,3]\n",
    "l. append(4)\n",
    "print (l)"
   ]
  },
  {
   "cell_type": "code",
   "execution_count": 11,
   "id": "0a8d7ab1",
   "metadata": {},
   "outputs": [
    {
     "name": "stdout",
     "output_type": "stream",
     "text": [
      "[2, 3, 4, 5, 6, 7]\n"
     ]
    }
   ],
   "source": [
    "l=[2,3]\n",
    "l.extend([4,5,6,7])\n",
    "print(l)"
   ]
  },
  {
   "cell_type": "markdown",
   "id": "cdc4f1d8",
   "metadata": {},
   "source": [
    "# Ans 4"
   ]
  },
  {
   "cell_type": "markdown",
   "id": "e1218fb6",
   "metadata": {},
   "source": [
    "The remove() method removes the first matching value from the list while the pop() method deletes value at a particular index.But pop() method returns deleted value from the list."
   ]
  },
  {
   "cell_type": "code",
   "execution_count": 13,
   "id": "71ac4442",
   "metadata": {},
   "outputs": [
    {
     "name": "stdout",
     "output_type": "stream",
     "text": [
      "[1, 3, 4]\n"
     ]
    }
   ],
   "source": [
    "l=[1,2,3,4]\n",
    "l.remove(2)\n",
    "print(l)"
   ]
  },
  {
   "cell_type": "code",
   "execution_count": 15,
   "id": "14a60384",
   "metadata": {},
   "outputs": [
    {
     "name": "stdout",
     "output_type": "stream",
     "text": [
      "[2, 3, 4]\n"
     ]
    }
   ],
   "source": [
    "l=[1,2,3,4]\n",
    "l.pop(0)\n",
    "print(l)"
   ]
  },
  {
   "cell_type": "markdown",
   "id": "a0874760",
   "metadata": {},
   "source": [
    "# Ans 5"
   ]
  },
  {
   "cell_type": "code",
   "execution_count": 16,
   "id": "7fafa638",
   "metadata": {},
   "outputs": [
    {
     "name": "stdout",
     "output_type": "stream",
     "text": [
      "[]\n"
     ]
    }
   ],
   "source": [
    "l=[1,2,3,4]\n",
    "del l[:]\n",
    "print(l)"
   ]
  },
  {
   "cell_type": "markdown",
   "id": "cbb42b41",
   "metadata": {},
   "source": [
    "# Ans 6"
   ]
  },
  {
   "cell_type": "code",
   "execution_count": 1,
   "id": "5e207a8c",
   "metadata": {},
   "outputs": [
    {
     "data": {
      "text/plain": [
       "2"
      ]
     },
     "execution_count": 1,
     "metadata": {},
     "output_type": "execute_result"
    }
   ],
   "source": [
    "num=(1,2,3,3,4)\n",
    "num.count(3)"
   ]
  },
  {
   "cell_type": "markdown",
   "id": "27b2fbe2",
   "metadata": {},
   "source": [
    "# Ans 7"
   ]
  },
  {
   "cell_type": "code",
   "execution_count": 2,
   "id": "6f4f16e9",
   "metadata": {},
   "outputs": [
    {
     "name": "stdout",
     "output_type": "stream",
     "text": [
      "[1, 2, 3, 4]\n",
      "[1, 2, 3, 4]\n"
     ]
    }
   ],
   "source": [
    "a=[1,2,3]\n",
    "b=a\n",
    "b.append(4)\n",
    "print(a)\n",
    "print(b)"
   ]
  },
  {
   "cell_type": "markdown",
   "id": "32ac37cc",
   "metadata": {},
   "source": [
    "we can see that updating b will automatically update a"
   ]
  },
  {
   "cell_type": "code",
   "execution_count": 3,
   "id": "1dbf3903",
   "metadata": {},
   "outputs": [
    {
     "name": "stdout",
     "output_type": "stream",
     "text": [
      "[1, 2, 3]\n",
      "[1, 2, 3, 4]\n"
     ]
    }
   ],
   "source": [
    "a=[1,2,3]\n",
    "b=a.copy()\n",
    "b.append(4)\n",
    "print(a)\n",
    "print(b)"
   ]
  },
  {
   "cell_type": "markdown",
   "id": "5ccfff40",
   "metadata": {},
   "source": [
    "here we se that when we updated b it didn't updated a, that's the difference between b=a  vs b=a.copy()"
   ]
  },
  {
   "cell_type": "markdown",
   "id": "7a5fed60",
   "metadata": {},
   "source": [
    "# Ans 8"
   ]
  },
  {
   "cell_type": "markdown",
   "id": "c850623f",
   "metadata": {},
   "source": [
    "Tuple are immutable"
   ]
  },
  {
   "cell_type": "markdown",
   "id": "9fec5710",
   "metadata": {},
   "source": [
    "# Ans 9"
   ]
  },
  {
   "cell_type": "code",
   "execution_count": 5,
   "id": "3384399e",
   "metadata": {},
   "outputs": [
    {
     "name": "stdout",
     "output_type": "stream",
     "text": [
      "[1, 2, 3, 4]\n"
     ]
    }
   ],
   "source": [
    "a=[1,2,4]\n",
    "a.insert(2,3)\n",
    "print(a)"
   ]
  },
  {
   "cell_type": "markdown",
   "id": "06ced7bb",
   "metadata": {},
   "source": [
    "# Ans 10"
   ]
  },
  {
   "cell_type": "code",
   "execution_count": 6,
   "id": "5d8482e5",
   "metadata": {},
   "outputs": [
    {
     "name": "stdout",
     "output_type": "stream",
     "text": [
      "4\n"
     ]
    }
   ],
   "source": [
    "a=[4,5,6]\n",
    "print(min(a))"
   ]
  },
  {
   "cell_type": "markdown",
   "id": "f144f695",
   "metadata": {},
   "source": [
    "# Ans 11"
   ]
  },
  {
   "cell_type": "code",
   "execution_count": 12,
   "id": "9f135600",
   "metadata": {},
   "outputs": [
    {
     "data": {
      "text/plain": [
       "False"
      ]
     },
     "execution_count": 12,
     "metadata": {},
     "output_type": "execute_result"
    }
   ],
   "source": [
    "name=['A','B','C','D']\n",
    "fruits=['Orange','Apple','Mango','Banana']\n",
    "d=dict(zip(name,fruits))\n",
    "'one' in d.values()"
   ]
  },
  {
   "cell_type": "code",
   "execution_count": 13,
   "id": "a07585fe",
   "metadata": {},
   "outputs": [
    {
     "data": {
      "text/plain": [
       "True"
      ]
     },
     "execution_count": 13,
     "metadata": {},
     "output_type": "execute_result"
    }
   ],
   "source": [
    "'Mango' in d.values()"
   ]
  },
  {
   "cell_type": "markdown",
   "id": "e837dc20",
   "metadata": {},
   "source": [
    "# Ans 12"
   ]
  },
  {
   "cell_type": "code",
   "execution_count": 15,
   "id": "04275f0b",
   "metadata": {},
   "outputs": [
    {
     "name": "stdout",
     "output_type": "stream",
     "text": [
      "{'M': 'Apple', 'N': 'Mango', 'O': 'Banana', 'key1': 'Orange'}\n"
     ]
    }
   ],
   "source": [
    "name=['K','M','N','O']\n",
    "fruits=['Orange','Apple','Mango','Banana']\n",
    "d=dict(zip(name,fruits))\n",
    "new_key = \"key1\"\n",
    "old_key = \"K\"\n",
    "d[new_key] = d.pop(old_key)\n",
    "print(d)"
   ]
  },
  {
   "cell_type": "markdown",
   "id": "2118fb80",
   "metadata": {},
   "source": [
    "# Ans 13"
   ]
  },
  {
   "cell_type": "code",
   "execution_count": 19,
   "id": "0c551c4f",
   "metadata": {},
   "outputs": [
    {
     "name": "stdout",
     "output_type": "stream",
     "text": [
      "{'M': 'Apple', 'N': 'Mango', 'O': 'Banana', 'key1': 'Watermelon', 'key': 'Watermelon'}\n"
     ]
    }
   ],
   "source": [
    "d['key1']='Watermelon' # earlier it was Orange\n",
    "print(d)"
   ]
  },
  {
   "cell_type": "markdown",
   "id": "3e1ca8cb",
   "metadata": {},
   "source": [
    "# Ans 14"
   ]
  },
  {
   "cell_type": "code",
   "execution_count": 23,
   "id": "19a05ec3",
   "metadata": {},
   "outputs": [
    {
     "name": "stdout",
     "output_type": "stream",
     "text": [
      "[1, 3, 4, 5]\n"
     ]
    }
   ],
   "source": [
    "a=[1,4]\n",
    "b=[6,7]\n",
    "a.append(3)\n",
    "a.append(5)\n",
    "a.sort()\n",
    "print(a)"
   ]
  },
  {
   "cell_type": "markdown",
   "id": "d732abbb",
   "metadata": {},
   "source": [
    "# Ans 15"
   ]
  },
  {
   "cell_type": "code",
   "execution_count": 24,
   "id": "77531c4f",
   "metadata": {},
   "outputs": [
    {
     "name": "stdout",
     "output_type": "stream",
     "text": [
      "1\n"
     ]
    }
   ],
   "source": [
    "t=('a','b','c')\n",
    "print(t.count('a'))"
   ]
  }
 ],
 "metadata": {
  "kernelspec": {
   "display_name": "Python 3 (ipykernel)",
   "language": "python",
   "name": "python3"
  },
  "language_info": {
   "codemirror_mode": {
    "name": "ipython",
    "version": 3
   },
   "file_extension": ".py",
   "mimetype": "text/x-python",
   "name": "python",
   "nbconvert_exporter": "python",
   "pygments_lexer": "ipython3",
   "version": "3.10.0"
  }
 },
 "nbformat": 4,
 "nbformat_minor": 5
}
